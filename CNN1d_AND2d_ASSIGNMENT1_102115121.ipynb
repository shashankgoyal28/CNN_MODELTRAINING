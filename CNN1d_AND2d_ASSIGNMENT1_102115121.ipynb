{
 "cells": [
  {
   "cell_type": "code",
   "execution_count": 14,
   "id": "73e2c688",
   "metadata": {},
   "outputs": [
    {
     "name": "stdout",
     "output_type": "stream",
     "text": [
      "3\n"
     ]
    }
   ],
   "source": [
    "from numpy import asarray\n",
    "print(asarray([1, 1, 1]).dot(asarray([1, 1, 1])))"
   ]
  },
  {
   "cell_type": "code",
   "execution_count": 15,
   "id": "0c5b012d",
   "metadata": {},
   "outputs": [
    {
     "name": "stdout",
     "output_type": "stream",
     "text": [
      "3\n"
     ]
    }
   ],
   "source": [
    "from numpy import asarray\n",
    "from numpy import tensordot\n",
    "m1 = asarray([[0, 1, 0],\n",
    "   [0, 1, 0],\n",
    "   [0, 1, 0]])\n",
    "m2 = asarray([[0, 1, 1],\n",
    "   [0, 1,1],\n",
    "   [0, 1, 1]])\n",
    "print(tensordot(m1, m2))"
   ]
  },
  {
   "cell_type": "code",
   "execution_count": null,
   "id": "f77b8f4f",
   "metadata": {},
   "outputs": [],
   "source": [
    "# example of calculation 1d convolutions\n",
    "from tensorflow.keras import models, layers \n",
    "# Updated import for TensorFlow 2.x\n",
    "from keras.models import Sequential\n",
    "from keras.layers import Conv1D\n",
    "from numpy import asarray\n",
    "\n",
    "# define input data\n",
    "data = asarray([0, 0, 0, 1, 1, 0, 0, 0])\n",
    "data = data.reshape(1, 8, 1)\n",
    "# create model\n",
    "model = Sequential()\n",
    "model.add(Conv1D(1, 3, input_shape=(8, 1)))\n",
    "# define a vertical line detector\n",
    "weights = [asarray([[[0]],[[1]],[[0]]]), asarray([0.0])]\n",
    "# store the weights in the model\n",
    "model.set_weights(weights)\n",
    "# confirm they were stored\n",
    "print(model.get_weights())\n",
    "# apply filter to input data\n",
    "yhat = model.predict(data)\n",
    "print(yhat)"
   ]
  },
  {
   "cell_type": "code",
   "execution_count": null,
   "id": "eb871d50",
   "metadata": {},
   "outputs": [],
   "source": [
    "# Assignment 1: For the same Conv2D example\n",
    "# 1) Apply Activation function (Relu)\n",
    "import numpy as np\n",
    "from keras.models import Sequential\n",
    "from keras.layers import Conv2D, Activation\n",
    "\n",
    "# Define input data\n",
    "data = np.array([\n",
    "    [0, 0, 0, 1, 1, 0, 0, 0],\n",
    "    [0, 0, 0, 1, 1, 0, 0, 0],\n",
    "    [0, 0, 0, 1, 1, 0, 0, 0],\n",
    "    [0, 0, 0, 1, 1, 0, 0, 0],\n",
    "    [0, 0, 0, 1, 1, 0, 0, 0],\n",
    "    [0, 0, 0, 1, 1, 0, 0, 0],\n",
    "    [0, 0, 0, 1, 1, 0, 0, 0],\n",
    "    [0, 0, 0, 1, 1, 0, 0, 0]\n",
    "])\n",
    "data = data.reshape(1, 8, 8, 1)\n",
    "\n",
    "# Create model with ReLU activation\n",
    "model = Sequential()\n",
    "model.add(Conv2D(1, (3, 3), input_shape=(8, 8, 1)))\n",
    "model.add(Activation('relu'))  # Apply ReLU activation\n",
    "\n",
    "# Define vertical line detector\n",
    "detector = np.array([\n",
    "    [[[0]], [[1]], [[0]]],\n",
    "    [[[0]], [[1]], [[0]]],\n",
    "    [[[0]], [[1]], [[0]]]\n",
    "])\n",
    "weights = [detector, np.array([0.0])]\n",
    "\n",
    "# Store weights in the model\n",
    "model.set_weights(weights)\n",
    "\n",
    "# Confirm weights are stored (optional)\n",
    "# print(model.get_weights())\n",
    "\n",
    "# Apply filter to input data\n",
    "yhat = model.predict(data)\n",
    "\n",
    "# Print output, considering potential reshaping for clarity\n",
    "output_shape = yhat.shape[1:]  # Get output feature map dimensions\n",
    "if len(output_shape) == 2:  # Handle single channel output\n",
    "    for r in range(output_shape[0]):\n",
    "        print([yhat[0, r, c, 0] for c in range(output_shape[1])])\n",
    "elif len(output_shape) == 3:  # Handle multiple channels (unlikely in this case)\n",
    "    for f in range(output_shape[2]):\n",
    "        for r in range(output_shape[0]):\n",
    "            print([yhat[0, r, c, f] for c in range(output_shape[1])])\n",
    "else:\n",
    "    print(\"Unexpected output shape:\", output_shape)\n"
   ]
  },
  {
   "cell_type": "code",
   "execution_count": null,
   "id": "1ee16ce2",
   "metadata": {},
   "outputs": [],
   "source": [
    "import numpy as np\n",
    "from keras.models import Sequential\n",
    "from keras.layers import Conv2D, AveragePooling2D, MaxPooling2D, GlobalAveragePooling2D\n",
    "\n",
    "# Define input data (same as previous example)\n",
    "data = np.array([\n",
    "    [0, 0, 0, 1, 1, 0, 0, 0],\n",
    "    [0, 0, 0, 1, 1, 0, 0, 0],\n",
    "    [0, 0, 0, 1, 1, 0, 0, 0],\n",
    "    [0, 0, 0, 1, 1, 0, 0, 0],\n",
    "    [0, 0, 0, 1, 1, 0, 0, 0],\n",
    "    [0, 0, 0, 1, 1, 0, 0, 0],\n",
    "    [0, 0, 0, 1, 1, 0, 0, 0],\n",
    "    [0, 0, 0, 1, 1, 0, 0, 0]\n",
    "])\n",
    "data = data.reshape(1, 8, 8, 1)\n",
    "\n",
    "# Create a base model with Conv2D layer (optional, reuse previous model if desired)\n",
    "model = Sequential()\n",
    "model.add(Conv2D(1, (3, 3), input_shape=(8, 8, 1)))\n",
    "\n",
    "# Function to apply pooling and print output (reusable)\n",
    "def apply_pooling(pooling_layer, model, data):\n",
    "    # Add pooling layer to the model\n",
    "    model.add(pooling_layer())\n",
    "\n",
    "    # Apply filter and get output\n",
    "    yhat = model.predict(data)\n",
    "\n",
    "    # Print output shape (optional)\n",
    "    print(f\"Output shape after {pooling_layer.__name__}: {yhat.shape}\")\n",
    "\n",
    "    # Print output based on dimensionality (similar logic from previous response)\n",
    "    output_shape = yhat.shape[1:]\n",
    "    if len(output_shape) == 2:\n",
    "        for r in range(output_shape[0]):\n",
    "            print([yhat[0, r, c, 0] for c in range(output_shape[1])])\n",
    "    elif len(output_shape) == 3:\n",
    "        for f in range(output_shape[2]):\n",
    "            for r in range(output_shape[0]):\n",
    "                print([yhat[0, r, c, f] for c in range(output_shape[1])])\n",
    "    else:\n",
    "        print(\"Unexpected output shape:\", output_shape)\n",
    "\n",
    "    # Clear the model for the next pooling operation\n",
    "    model.layers = []  # Reset the model architecture\n",
    "\n",
    "# Apply Average Pooling\n",
    "apply_pooling(AveragePooling2D, model.copy(), data.copy())  # Make a copy to avoid modifying original data\n",
    "\n",
    "# Apply Max Pooling\n",
    "apply_pooling(MaxPooling2D, model.copy(), data.copy())\n",
    "\n",
    "# Apply Global Average Pooling\n",
    "apply_pooling(GlobalAveragePooling2D, model.copy(), data.copy())"
   ]
  }
 ],
 "metadata": {
  "kernelspec": {
   "display_name": "Python 3 (ipykernel)",
   "language": "python",
   "name": "python3"
  },
  "language_info": {
   "codemirror_mode": {
    "name": "ipython",
    "version": 3
   },
   "file_extension": ".py",
   "mimetype": "text/x-python",
   "name": "python",
   "nbconvert_exporter": "python",
   "pygments_lexer": "ipython3",
   "version": "3.10.9"
  }
 },
 "nbformat": 4,
 "nbformat_minor": 5
}
